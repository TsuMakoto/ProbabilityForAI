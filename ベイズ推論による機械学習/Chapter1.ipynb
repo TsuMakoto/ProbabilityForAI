{
 "cells": [
  {
   "cell_type": "markdown",
   "metadata": {},
   "source": [
    "# 機械学習とベイズ学習\n",
    "\n",
    "本書における機械学習の定義\n",
    "\n",
    "---\n",
    "\n",
    "## Def 1-1: 機械学習\n",
    "\n",
    "---\n",
    "\n",
    "機械学習とは、データに潜む規則や構造を抽出することにより、未知の現象に対する予測やそれに基づく判断を行うための計算技術の総称\n",
    "\n",
    "---"
   ]
  },
  {
   "cell_type": "markdown",
   "metadata": {},
   "source": [
    "MEMO:\n",
    "- データに潜む規則や構造？\n",
    "    - 標本空間における部分集合族に対する内包定義を指してる？\n",
    "    - 集合の場合、可測集合であるかどうか議論すべき\n",
    "        - 確率論に落とし込めない\n",
    "    - 写像を元に特定の定理や法則を見出すことか？\n",
    "- 未知の現象？\n",
    "    - 標本空間に対して、構造が定まる部分集合に含まれないもの？それはノイズになるのか？\n",
    "- 判断？\n",
    "    - 判断とはなにか？これは全くわからない。\n",
    "    - 何を持って判断したというのか？"
   ]
  },
  {
   "cell_type": "markdown",
   "metadata": {},
   "source": [
    "---\n",
    "\n",
    "## Def 1.4.1.1: 確率密度関数\n",
    "\n",
    "---\n",
    "\n",
    "$x := (x_1, x_2, \\cdots, x_M)^T \\in \\mathbb{R}^M$に対して、写像$p:\\mathbb{R}^M \\ni x \\longmapsto p(x) \\in \\mathbb{R}$が以下を満たす時、確率密度関数という。\n",
    "\n",
    "1. $p(x) \\ge 0$\n",
    "2. $\\int p(x) dx = \\int \\cdots \\int p(x_1, \\cdots, x_M)dx_1 \\cdots dx_M$\n",
    "---"
   ]
  },
  {
   "cell_type": "markdown",
   "metadata": {},
   "source": [
    "---\n",
    "\n",
    "## Def 1.4.1.2: 確率質量関数\n",
    "\n",
    "---\n",
    "\n",
    "$x := (x_1, x_2, \\cdots, x_M)^T \\in \\mathbb{R}^M$に対して、写像$p:\\mathbb{R}^M \\ni x \\longmapsto p(x) \\in \\mathbb{R}$が以下を満たす時、確率密度関数という。\n",
    "\n",
    "1. $p(x) \\ge 0$\n",
    "2. $\\sum p(x) dx = \\sum \\cdots \\sum p(x_1, \\cdots, x_M)dx_1 \\cdots dx_M$\n",
    "\n",
    "---"
   ]
  },
  {
   "cell_type": "markdown",
   "metadata": {},
   "source": [
    "本書では確率変数の厳密な定義はされていないが、他では厳密に定義しているので、参照のこと >>>\n",
    "[確率変数](http://localhost:8888/notebooks/%E6%A9%9F%E6%A2%B0%E5%AD%A6%E7%BF%92%E3%81%AE%E3%81%9F%E3%82%81%E3%81%AE%E7%A2%BA%E7%8E%87%E3%81%A8%E7%B5%B1%E8%A8%88/Chapter1.ipynb#Def-1.3.2:-%E7%A2%BA%E7%8E%87%E5%A4%89%E6%95%B0)"
   ]
  },
  {
   "cell_type": "markdown",
   "metadata": {},
   "source": [
    "---\n",
    "\n",
    "## Def 1.4.2.1: 同時確率分布\n",
    "\n",
    "---\n",
    "\n",
    "確率変数$X,Y$がある事象に対して、それぞれ$x_i, y_i$をとる確率を$P(X=x_i, Y=y_i)$と表す。\n",
    "\n",
    "---\n",
    "\n",
    "---\n",
    "\n",
    "### Def 1.4.2.1.1: 同時確率密度関数\n",
    "\n",
    "---\n",
    "\n",
    "標本空間$\\Omega = \\Omega_X \\times \\Omega_Y$に対して、$X, Y$を連続型確率変数とする。\n",
    "同時確率$P$がコルモゴロフの公理を満たすとき、\n",
    "$$f_{X \\times Y}(x,y) = P(X=x, Y=y)$$\n",
    "を同時確率密度関数と呼ぶ。\n",
    "\n",
    "---"
   ]
  },
  {
   "cell_type": "markdown",
   "metadata": {},
   "source": [
    "---\n",
    "\n",
    "## Def1.4.2.2: 周辺化\n",
    "\n",
    "---\n",
    "\n",
    "同時確率密度関数$f_{X \\times Y}(x,y)$とする。\n",
    "連続型確率変数$X,Y$のそれぞれの確率密度関数$g,h$は以下で求められる。\n",
    "$$g(x) = \\int_{\\Omega_Y} f_{X \\times Y}(x,y)dy, \\ \\ h(y) = \\int_{\\Omega_X} f_{X \\times Y}(x,y)dx$$\n",
    "\n",
    "---"
   ]
  },
  {
   "cell_type": "markdown",
   "metadata": {},
   "source": [
    "---\n",
    "\n",
    "## Def 1.4.2.3: 条件付き確率\n",
    "\n",
    "---\n",
    "\n",
    "標本空間$\\Omega = \\Omega_X \\times \\Omega_Y$に対して、$X, Y$を確率変数とし、$\\Omega$上の確率を$P$とする。\n",
    "\n",
    "また、$\\Omega_Y$に対する部分集合族$\\mathcal{B}$に対する事象$B$を一つ固定する。\n",
    "\n",
    "この時、標本空間$\\Omega_B = \\Omega_X \\times B$上の確率を$B$の条件とする$X$の条件付き確率といい、以下で定義する。\n",
    "\n",
    "$$P(X=x|B=y) = \\frac{P (X=x,Y=y)}{P (Y=y)}$$\n",
    "\n",
    "---\n"
   ]
  },
  {
   "cell_type": "markdown",
   "metadata": {},
   "source": [
    "---\n",
    "\n",
    "## Th 1.4.2.1: ベイズ\n",
    "\n",
    "---\n",
    "\n",
    "$\\mathrm{Def \\ 1.4.2.3}$における確率空間において、$\\Omega_X$に対する部分集合族$\\mathcal{A}$に対する事象$A$を一つ固定する。\n",
    "\n",
    "このとき、以下が成り立つ。\n",
    "\n",
    "$$P(X=x|B=y) = \\frac{P (Y=y | A=x) P (X=x)}{P (Y=y)} = \\frac{P (Y=y | A=x)P(X=x)}{\\int P(X=x, Y=y)dx}$$\n",
    "\n",
    "---"
   ]
  },
  {
   "cell_type": "markdown",
   "metadata": {},
   "source": [
    "( **証明** )\n",
    "\\begin{align*}\n",
    "  \\frac{P (Y=y | A=x) P (X=x)}{P (Y=y)} &= \\frac{P (X=x, Y=y)}{P (X=x)} \\times \\frac{P (X=x)}{P (Y=y)} \\\\\n",
    "                                        &= \\frac{P (X=x, Y=y)}{P (Y=y)} \\\\\n",
    "                                        &= P (X=x | B=y)\n",
    "\\end{align*}\n",
    "\n",
    "<p style=\"text-align:right\">========== 証明終了 ==========</p>"
   ]
  },
  {
   "cell_type": "markdown",
   "metadata": {},
   "source": [
    "---\n",
    "\n",
    "## Def 1.4.2.4: 独立\n",
    "\n",
    "---\n",
    "\n",
    "確率空間$(\\Omega_X \\times \\Omega_Y, \\mathcal{A} \\times \\mathcal{B}, P)$に対して、\n",
    "$$P(X=x, Y=y) = P(X=x)P(Y=y)$$\n",
    "が成り立つとき、確率変数$X,Y$は独立という。\n",
    "\n",
    "---"
   ]
  },
  {
   "cell_type": "markdown",
   "metadata": {},
   "source": [
    "---\n",
    "\n",
    "## Def 1.4.2.5: ベイズ推論\n",
    "\n",
    "---\n",
    "\n",
    "確率空間$(\\Omega_X \\times \\Omega_Y, \\mathcal{A} \\times \\mathcal{B}, P)$に対して、条件付き確率または周辺分布を算出することを**ベイズ推論**とする。（「とする」といったのは本書での定義であり、一般的定義ではない。）\n",
    "\n",
    "---"
   ]
  },
  {
   "cell_type": "markdown",
   "metadata": {},
   "source": [
    "---\n",
    "\n",
    "## Pro 1.4.3: 赤玉白玉問題\n",
    "\n",
    "---\n",
    "\n",
    "### $P_X :=$ 袋を選ぶ事前確率, $P_Y :=$ 玉を取り出す事前確率の定義\n",
    "\n",
    "$a := \\{赤玉, 赤玉, 白玉\\}, b := \\{赤玉, 白玉, 白玉, 白玉\\}, S := \\{a, b\\}$\n",
    "\n",
    "$$写像\\mathrm{CR}:S \\ni x \\longmapsto xの赤玉の数 \\in \\mathbb{N}$$\n",
    "\n",
    "で定義する。\n",
    "\n",
    "$$\n",
    "  \\begin{align*}\n",
    "    \\Omega_X &:= \\{袋aを選ぶ事象(=: A), 袋bを選ぶ事象(=: B)\\} \\\\\n",
    "    \\Omega_Y &:= \\{赤玉を選ぶ事象(=: R), 白玉を選ぶ事象(=: W)\\}\n",
    "  \\end{align*}\n",
    "$$\n",
    "とする。\n",
    "\n",
    "$\\Omega_X$の部分集合族$\\mathcal{A}=\\{\\emptyset, \\{A\\}, \\{B\\}, \\Omega_X \\}$は$\\sigma$-加法族である。\n",
    "\n",
    "$$\n",
    "  P_X(X) :=\n",
    "      \\begin{cases}\n",
    "        0 & (X = \\emptyset) \\\\\n",
    "        \\frac{1}{2} & (X \\in \\{\\{A\\}, \\{B\\}\\}) \\\\\n",
    "        1 & (X = \\Omega_X)\n",
    "      \\end{cases}\n",
    "$$\n",
    "\n",
    "で定義した時、$P_X$は明らかに確率となる。よって、確率空間$(\\Omega_X, \\mathcal{A}, P_X)$を定義できる。\n",
    "\n",
    "一方、$\\Omega_Y$の部分集合族$\\mathcal{B}=\\{\\emptyset, \\{R\\}, \\{W\\}, \\Omega_Y \\}$は$\\sigma$-加法族である。\n",
    "\n",
    "$$\n",
    "  P_Y(Y) :=\n",
    "      \\begin{cases}\n",
    "        0 & (Y = \\emptyset) \\\\\n",
    "        P_X(\\{A\\}) \\times \\frac{\\mathrm{CR}(a)}{|a|} \n",
    "            +  P_X(\\{B\\}) \\times \\frac{\\mathrm{CR}(b)}{|b|} & (Y =\\{R\\}) \\\\\n",
    "        P_X(\\{A\\}) \\times \\frac{|a| - \\mathrm{CR}(a)}{|a|} \n",
    "            +  P_X(\\{B\\}) \\times \\frac{|b| - \\mathrm{CR}(b)}{|b|} & (Y =\\{W\\}) \\\\\n",
    "        1 & (X = \\Omega_X)\n",
    "      \\end{cases}\n",
    "$$\n",
    "\n",
    "で定義した時、$P_Y$は明らかに確率となる。よって、確率空間$(\\Omega_Y, \\mathcal{B}, P_Y)$を定義できる。\n",
    "今回の場合、確率$P_Y$は\n",
    "$$\n",
    "  P_Y(Y) :=\n",
    "    \\begin{cases}\n",
    "      0 & (Y = \\emptyset) \\\\\n",
    "      \\frac{11}{24} & (Y =\\{R\\}) \\\\\n",
    "      \\frac{13}{24} & (Y =\\{W\\}) \\\\\n",
    "      1 & (X = \\Omega_X)\n",
    "    \\end{cases}\n",
    "$$\n",
    "と再定義できる。\n",
    "\n",
    "---\n",
    "\n",
    "### 袋と玉の取り方の同時確率P\n",
    "\n",
    "まず補助関数$\\alpha(X), \\beta(X, Y)$を、\n",
    "\n",
    "$$\n",
    "  \\alpha(X) := \\begin{cases}\n",
    "    a & (X = A) \\\\\n",
    "    b & (X = B)\n",
    "  \\end{cases}\n",
    "$$\n",
    "\n",
    "$$\n",
    "  \\beta(X, Y) :=\n",
    "  \\begin{cases}\n",
    "    0 & (Y = \\emptyset) \\\\\n",
    "    \\frac{\\mathrm{CR}(\\alpha(X))}{|\\alpha(X)|} & (Y = \\{R\\}) \\\\\n",
    "    \\frac{|\\alpha(X)| - \\mathrm{CR}(\\alpha(X))}{|\\alpha(X)|} & (Y = \\{W\\}) \\\\\n",
    "    1 & (Y = \\Omega_Y)\n",
    "  \\end{cases}\n",
    "$$\n",
    "で定義する。\n",
    "ここで\n",
    "$$写像P:\\mathcal{A} \\times \\mathcal{B} \\ni (X, Y) \\longmapsto P(X, Y) \\in \\mathbb{R}$$\n",
    "\n",
    "を以下で定義する。\n",
    "\n",
    "$$P(X, Y) := P_X(X) \\times \\beta(X, Y)$$\n",
    "\n",
    "このとき、明らかに（もれなく一つずつ計算することで）Pが$\\Omega_X \\times \\Omega_Y$上の確率であることがわかる。\n",
    "\n",
    "---\n",
    "\n",
    "### 袋が選ばれていることを前提とした確率\n",
    "\n",
    "確率空間$(\\Omega_X \\times \\Omega_Y, \\mathcal{A} \\times \\mathcal{B}, P)$に対して、$A \\in \\mathcal{A}$を固定した時の、条件付き確率は\n",
    "\n",
    "$$\n",
    "  P(Y \\in \\mathcal{B} | A \\in \\mathcal{A}) \n",
    "    = \\frac{P(A \\in \\mathcal{A}, Y \\in \\mathcal{B})}{P(A \\in \\mathcal{A})} \n",
    "$$\n",
    "\n",
    "と定義できる。\n",
    "\n",
    "---\n",
    "\n",
    "### 袋を選ぶ事後確率\n",
    "\n",
    "$P$を周辺化することで袋を選ぶ事後確率と玉を取り出す事後確率を求める。\n",
    "\n",
    "$$\n",
    "  \\begin{align*}\n",
    "    P(A \\in \\mathcal{A}) &= \\sum_{Y \\in \\mathcal{B}} P(A, Y) \\\\ \n",
    "                         &= \\sum_{Y \\in \\mathcal{B}} P_X(A) \\times \\beta(A, Y) \\\\\n",
    "                         &= P_X(A) \\times \\beta(A, R) + P_X(A) \\times \\beta(A, W) \\\\\n",
    "                         &= \\frac{1}{2}\\left( \\frac{\\mathrm{CR}(\\alpha(A))}{|\\alpha(A)|} + \\frac{|\\alpha(A)| - \\mathrm{CR}(\\alpha(A))}{|\\alpha(A)|} \\right) \\\\\n",
    "                         &= \\frac{1}{2} \\\\\n",
    "    P(B \\in \\mathcal{A}) &= \\sum_{Y \\in \\mathcal{B}} P(B, Y) \\\\ \n",
    "                         &= \\sum_{Y \\in \\mathcal{B}} P_X(B) \\times \\beta(B, Y) \\\\\n",
    "                         &= P_X(B) \\times \\beta(B, R) + P_X(B) \\times \\beta(B, W) \\\\\n",
    "                         &= \\frac{1}{2}\\left( \\frac{\\mathrm{CR}(\\alpha(B))}{|\\alpha(B)|} + \\frac{|\\alpha(B)| - \\mathrm{CR}(\\alpha(B))}{|\\alpha(B)|} \\right) \\\\\n",
    "                         &= \\frac{1}{2} \\\\\n",
    "  \\end{align*}\n",
    "$$\n",
    "\n",
    "今回、袋を選ぶ事後確率の事前確率と事後確率は一致したが、一般には一致しないことに注意する。\n",
    "\n",
    "---"
   ]
  },
  {
   "cell_type": "code",
   "execution_count": 1,
   "metadata": {},
   "outputs": [
    {
     "data": {
      "text/plain": [
       "P (generic function with 1 method)"
      ]
     },
     "execution_count": 1,
     "metadata": {},
     "output_type": "execute_result"
    }
   ],
   "source": [
    "red_ball, white_ball = \"赤玉\", \"白玉\"\n",
    "a = [red_ball, red_ball, white_ball];\n",
    "b = [red_ball, white_ball, white_ball, white_ball];\n",
    "S = Set([a,b]);\n",
    "∅ = Set([]);\n",
    "\n",
    "A = \"aの袋を選ぶ事象\";\n",
    "B = \"bの袋を選ぶ事象\";\n",
    "R = \"赤玉を選ぶ事象\";\n",
    "W = \"白玉を選ぶ事象\";\n",
    "\n",
    "ΩX = Set([A,B]);\n",
    "ΩY = Set([R,W]);\n",
    "select_a = Set([A])\n",
    "select_b = Set([B])\n",
    "select_red = Set([R])\n",
    "select_white = Set([W])\n",
    "\n",
    "CR(x) = length(x[red_ball .== x])\n",
    "\n",
    "PX(X) = if X == ∅ 0 elseif X == select_a || X == select_b 1/2 else 1 end\n",
    "\n",
    "# 補助関数 α: {{A}, {B}} ∋ X ⟼ α(X) ∈ S\n",
    "α(X) = if X == select_a a else b end\n",
    "# 補助関数 β: X × Y ∋  ⟼ α(X) ∈ S\n",
    "β(X, Y) = \n",
    "    if X == ∅ || Y == ∅ 0 \n",
    "    elseif X == ΩX 1 \n",
    "    elseif Y == select_red CR(α(X)) / length(α(X)) \n",
    "    elseif Y == select_white 1 - CR(α(X)) / length(α(X))\n",
    "    else 1 end\n",
    "\n",
    "P(X, Y) = PX(X) * β(X, Y)\n"
   ]
  },
  {
   "cell_type": "code",
   "execution_count": 2,
   "metadata": {},
   "outputs": [
    {
     "name": "stdout",
     "output_type": "stream",
     "text": [
      "P(袋aが選ばれてかつ赤玉の確率) = 0.3333333333333333\n",
      "P(袋bが選ばれてかつ赤玉の確率) = 0.125\n",
      "P(ΩY ∈ Yの部分集合族 | select_a ∈ Xの部分集合族) = 1.0\n",
      "P(R ∈ Yの部分集合族 | select_a ∈ Xの部分集合族) = 0.6666666666666666\n",
      "P(W ∈ Yの部分集合族 | select_a ∈ Xの部分集合族) = 0.33333333333333337\n",
      "P(∅ ∈ Yの部分集合族 | select_a ∈ Xの部分集合族) = 0.0\n"
     ]
    }
   ],
   "source": [
    "println(\"P(袋aが選ばれてかつ赤玉の確率) = \", P(select_a, select_red))\n",
    "println(\"P(袋bが選ばれてかつ赤玉の確率) = \", P(select_b, select_red))\n",
    "\n",
    "# 袋が選ばれていることを前提とした条件付き確率\n",
    "conditinal(Y, X) = P(X, Y) / PX(X)\n",
    "\n",
    "# aの袋が選ばれた時の条件付き確率\n",
    "println(\"P(ΩY ∈ Yの部分集合族 | select_a ∈ Xの部分集合族) = \", conditinal(ΩY, select_a))\n",
    "println(\"P(R ∈ Yの部分集合族 | select_a ∈ Xの部分集合族) = \", conditinal(select_red, select_a))\n",
    "println(\"P(W ∈ Yの部分集合族 | select_a ∈ Xの部分集合族) = \", conditinal(select_white, select_a))\n",
    "println(\"P(∅ ∈ Yの部分集合族 | select_a ∈ Xの部分集合族) = \", conditinal(∅, select_a))"
   ]
  },
  {
   "cell_type": "code",
   "execution_count": 3,
   "metadata": {},
   "outputs": [
    {
     "name": "stdout",
     "output_type": "stream",
     "text": [
      "P(A ∈ Xの部分集合族) = 0.5\n",
      "P(B ∈ Xの部分集合族) = 0.5\n"
     ]
    }
   ],
   "source": [
    "# 袋を選ぶ事後確率\n",
    "afterPx(X) = sum([P(X, b) for b ∈ [select_red, select_white]])\n",
    "println(\"P(A ∈ Xの部分集合族) = \", afterPx(select_a))  # 上で求めた事前確率 1/2と一致している！\n",
    "println(\"P(B ∈ Xの部分集合族) = \", afterPx(select_b))"
   ]
  },
  {
   "cell_type": "code",
   "execution_count": 4,
   "metadata": {},
   "outputs": [
    {
     "name": "stdout",
     "output_type": "stream",
     "text": [
      "P(R ∈ Yの部分集合族) = 0.4583333333333333\n",
      "P(W ∈ Yの部分集合族) = 0.5416666666666667\n"
     ]
    }
   ],
   "source": [
    "# 玉を選ぶ事後確率\n",
    "afterPy(Y) = sum([P(b, Y) for b ∈ [select_a, select_b]])\n",
    "println(\"P(R ∈ Yの部分集合族) = \", afterPy(select_red))  # 上で求めた事前確率 11/24と一致している！\n",
    "println(\"P(W ∈ Yの部分集合族) = \", afterPy(select_white))  # 上で求めた事前確率 13/24と一致している!"
   ]
  },
  {
   "cell_type": "markdown",
   "metadata": {},
   "source": [
    "## 観測データが複数ある場合\n",
    "\n",
    "以下、便宜上$r=\\{R\\}, w=\\{W\\}$とする。\n",
    "\n",
    "3人の人物が$a,b$のどちらかの袋一方からそれぞれ玉を取り出す操作を考える。ただし、玉の取り出し方は復元抽出であるとする。\n",
    "\n",
    "選ばれた玉が$\\mathbb{y} = \\{r,r,w\\}$のとき、袋$a$が選ばれる確率を求める。\n",
    "\n",
    "---\n",
    "以降、便宜上\n",
    "$\\mathbb{x} := \\{x_i\\}_{i=1}^{n} \\in \\mathcal{X}$に対して、\n",
    "$\\mathbb{x} \\in \\mathcal{X}^n := (x_1 \\in \\mathcal{X}, \\cdots, x_n \\in \\mathcal{X})$\n",
    "で表す。\n",
    "\n",
    "今回の場合、$n$人で同様の操作をした場合を考えると、$\\{y_i\\}_{i=1}^{n}$はそれぞれ独立であることがわかる。\n",
    "なぜなら、それぞれの事象において、確率は他の事象によって変化することがないからである。\n",
    "\n",
    "よって、$\\mathcal{A} \\times \\mathcal{B}^n \\ni (X, \\mathbb{y}) \\longmapsto P(\\mathbb{y} | X) \\in \\mathbb{R}$を以下で定義できる。\n",
    "\n",
    "$$P(\\mathbb{y} | X) := \\prod_{i=1}^{n} P(y_i | X)$$\n",
    "\n",
    "さて、本題に戻れば、本問いにおける確率はベイズの定理により\n",
    "$P(X=a | \\mathbb{y} \\in \\mathcal{B}^3) = \\frac{P(\\mathbb{y} \\in \\mathcal{B}^3 | X=a) P(X=a)}{P(\\mathbb{y} \\in \\mathcal{B}^3)}$\n",
    "と変形できる。"
   ]
  },
  {
   "cell_type": "markdown",
   "metadata": {},
   "source": [
    "$$\n",
    "  \\begin{align*}\n",
    "      P(X=a | \\mathbb{y} \\in \\mathcal{B}^3) &= \\frac{P(\\mathbb{y} \\in \\mathcal{B}^3 | X=a) P(X=a)}{P(\\mathbb{y} \\in \\mathcal{B}^3)} \\\\\n",
    "                                          &= \\frac{P(\\mathbb{y} \\in \\mathcal{B}^3 | X=a) P(X=a)}{\\sum_{x \\in \\Omega_X}P(X = x, \\mathbb{y} \\in \\mathcal{B}^3)} \\\\\n",
    "                                          &= \\frac{P(\\mathbb{y} \\in \\mathcal{B}^3 | X=a) P(X=a)}{P(X = a, \\mathbb{y} \\in \\mathcal{B}^3) + P(X = b, \\mathbb{y} \\in \\mathcal{B}^3)} \\\\ \\\\\n",
    "    P(X = a, \\mathbb{y} \\in \\mathcal{B}^3) &= P(\\mathbb{y} \\in \\mathcal{B}^3 | X = a)P(X=a) \\\\\n",
    "                                           &= P(r \\in \\mathcal{B} | X=a) P(r \\in \\mathcal{B} | X=a) P(w \\in \\mathcal{B} | X=a) P(X=a) \\\\\n",
    "                                           &= \\left( \\frac{2}{3} \\right)^2 \\times \\frac{1}{3} \\times \\frac{1}{2} \\\\\n",
    "                                           &= \\frac{2}{27} \\\\\n",
    "    P(X = b, \\mathbb{y} \\in \\mathcal{B}^3) &= P(\\mathbb{y} \\in \\mathcal{B}^3 | X = b)P(X=b) \\\\\n",
    "                                           &= P(r \\in \\mathcal{B} | X=b) P(r \\in \\mathcal{B} | X=b) P(w \\in \\mathcal{B} | X=b) P(X=b) \\\\\n",
    "                                           &= \\left( \\frac{1}{4} \\right)^2 \\times \\frac{3}{4} \\times \\frac{1}{2} \\\\\n",
    "                                           &= \\frac{3}{128}\n",
    "  \\end{align*}\n",
    "$$"
   ]
  },
  {
   "cell_type": "markdown",
   "metadata": {},
   "source": [
    "以上により、\n",
    "\n",
    "$$\n",
    "  \\begin{align*}\n",
    "    P(X=a | \\mathbb{y} \\in \\mathcal{B}^3) &= \\frac{2/27}{2/27 + 3/128} \\\\\n",
    "                                          &= \\frac{256}{337}\n",
    "  \\end{align*}\n",
    "$$\n",
    "\n",
    "同様にして、袋$b$が選ばれる確率を求めることもできる。\n",
    "$$\n",
    "  \\begin{align*}\n",
    "    P(X=b | \\mathbb{y} \\in \\mathcal{B}^3) &= \\frac{3/128}{2/27 + 3/128} \\\\\n",
    "                                          &= \\frac{81}{337}\n",
    "  \\end{align*}\n",
    "$$\n",
    "\n",
    "---"
   ]
  },
  {
   "cell_type": "markdown",
   "metadata": {},
   "source": [
    "以上の過程により、本題において、\n",
    "$$ \n",
    "  \\begin{align*}\n",
    "    P(X=a | \\mathbb{y} \\in \\mathcal{B}^n) &= \\frac{P(X=a)\\prod_{i=1}^{n} P(y_i | X=a)}{\\sum_{x \\in \\Omega_X}P(X=x)\\prod_{i=1}^{n} P(y_i | X=x)}\n",
    "  \\end{align*}\n",
    "$$\n",
    "と定めることができる。これは明らかに$\\Omega_X$で確率となる。"
   ]
  },
  {
   "cell_type": "code",
   "execution_count": 5,
   "metadata": {},
   "outputs": [
    {
     "name": "stdout",
     "output_type": "stream",
     "text": [
      "0.7596439169139466\n",
      "0.24035608308605338\n"
     ]
    }
   ],
   "source": [
    "# n個の掛け算定義\n",
    "prob(list) = if length(list) == 0 1 else pop!(list) * prob(list) end\n",
    "\n",
    "aux(X, Y_ndim) = afterPx(X) * prob([conditinal(yᵢ, X) for yᵢ ∈ Y_ndim])\n",
    "conditinal_ndim(Y_ndim, X) = aux(X, Y_ndim) / sum([aux(x, Y_ndim) for x ∈ [select_a, select_b]]) \n",
    "y_ndim = [select_red, select_red, select_white]\n",
    "println(conditinal_ndim(y_ndim, select_a)) # 256/337と一致している！\n",
    "println(conditinal_ndim(y_ndim, select_b)) # 81/337と一致している！"
   ]
  },
  {
   "cell_type": "code",
   "execution_count": 6,
   "metadata": {},
   "outputs": [
    {
     "name": "stdout",
     "output_type": "stream",
     "text": [
      "0.9221091861712114\n"
     ]
    }
   ],
   "source": [
    "# 本書にある y = {r,r,w,w,r,r,w,r}の時を求める\n",
    "y_ndim = [select_red, select_red, select_white, select_white, select_red, select_red, select_white, select_red]\n",
    "println(conditinal_ndim(y_ndim, select_a)) # 本書の値と一致している"
   ]
  },
  {
   "cell_type": "code",
   "execution_count": 7,
   "metadata": {},
   "outputs": [
    {
     "name": "stdout",
     "output_type": "stream",
     "text": [
      "0.999988965952419\n"
     ]
    }
   ],
   "source": [
    "# 本書の値で、29回の赤玉と21回の白玉が観測されたとする\n",
    "y_ndim = []\n",
    "for i=1:29 push!(y_ndim, select_red) end\n",
    "for i=1:21 push!(y_ndim, select_white) end\n",
    "println(conditinal_ndim(y_ndim, select_a)) # 本書の値と一致している"
   ]
  },
  {
   "cell_type": "markdown",
   "metadata": {},
   "source": [
    "## グラフィカルモデル\n",
    "\n",
    "確率変数をノード、エンティティを矢印を用いて表現する記法である。\n",
    "\n",
    "### 有向グラフ\n",
    "\n",
    "確率変数を$X,Y$, エンティティを$\\longrightarrow$とし、\n",
    "二項関係$X \\longrightarrow Y$を以下で定義する。\n",
    "\n",
    "---\n",
    "\n",
    "### Def 1.5.1.1: ノード$X,Y$の関係\n",
    "\n",
    "---\n",
    "\n",
    "$$X \\longrightarrow Y \\Longleftrightarrow P(Y|X)$$\n",
    "\n",
    "---\n"
   ]
  },
  {
   "cell_type": "code",
   "execution_count": null,
   "metadata": {},
   "outputs": [],
   "source": []
  }
 ],
 "metadata": {
  "kernelspec": {
   "display_name": "Julia 1.0.3",
   "language": "julia",
   "name": "julia-1.0"
  },
  "language_info": {
   "file_extension": ".jl",
   "mimetype": "application/julia",
   "name": "julia",
   "version": "1.0.3"
  }
 },
 "nbformat": 4,
 "nbformat_minor": 2
}
