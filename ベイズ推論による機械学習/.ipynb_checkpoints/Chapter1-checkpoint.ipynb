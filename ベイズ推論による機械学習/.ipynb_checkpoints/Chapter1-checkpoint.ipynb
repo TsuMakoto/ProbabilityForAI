{
 "cells": [
  {
   "cell_type": "markdown",
   "metadata": {},
   "source": [
    "# 機械学習とベイズ学習\n",
    "\n",
    "本書における機械学習の定義\n",
    "\n",
    "---\n",
    "\n",
    "## Def 1-1: 機械学習\n",
    "\n",
    "---\n",
    "\n",
    "機械学習とは、データに潜む規則や構造を抽出することにより、未知の現象に対する予測やそれに基づく判断を行うための計算技術の総称\n",
    "\n",
    "---"
   ]
  },
  {
   "cell_type": "markdown",
   "metadata": {},
   "source": [
    "MEMO:\n",
    "- データに潜む規則や構造？\n",
    "    - 標本空間における部分集合族に対する内包定義を指してる？\n",
    "    - 集合の場合、可測集合であるかどうか議論すべき\n",
    "        - 確率論に落とし込めない\n",
    "    - 写像を元に特定の定理や法則を見出すことか？\n",
    "- 未知の現象？\n",
    "    - 標本空間に対して、構造が定まる部分集合に含まれないもの？それはノイズになるのか？\n",
    "- 判断？\n",
    "    - 判断とはなにか？これは全くわからない。\n",
    "    - 何を持って判断したというのか？"
   ]
  },
  {
   "cell_type": "markdown",
   "metadata": {},
   "source": [
    "---\n",
    "\n",
    "## Def 1.4.1.1: 確率密度関数\n",
    "\n",
    "---\n",
    "\n",
    "$x := (x_1, x_2, \\cdots, x_M)^T \\in \\mathbb{R}^M$に対して、写像$p:\\mathbb{R}^M \\ni x \\longmapsto p(x) \\in \\mathbb{R}$が以下を満たす時、確率密度関数という。\n",
    "\n",
    "1. $p(x) \\ge 0$\n",
    "2. $\\int p(x) dx = \\int \\cdots \\int p(x_1, \\cdots, x_M)dx_1 \\cdots dx_M$\n",
    "---"
   ]
  },
  {
   "cell_type": "markdown",
   "metadata": {},
   "source": [
    "---\n",
    "\n",
    "## Def 1.4.1.2: 確率質量関数\n",
    "\n",
    "---\n",
    "\n",
    "$x := (x_1, x_2, \\cdots, x_M)^T \\in \\mathbb{R}^M$に対して、写像$p:\\mathbb{R}^M \\ni x \\longmapsto p(x) \\in \\mathbb{R}$が以下を満たす時、確率密度関数という。\n",
    "\n",
    "1. $p(x) \\ge 0$\n",
    "2. $\\sum p(x) dx = \\sum \\cdots \\sum p(x_1, \\cdots, x_M)dx_1 \\cdots dx_M$\n",
    "\n",
    "---"
   ]
  },
  {
   "cell_type": "markdown",
   "metadata": {},
   "source": [
    "本書では確率変数の厳密な定義はされていないが、他では厳密に定義しているので、参照のこと >>>\n",
    "[確率変数](http://localhost:8888/notebooks/%E6%A9%9F%E6%A2%B0%E5%AD%A6%E7%BF%92%E3%81%AE%E3%81%9F%E3%82%81%E3%81%AE%E7%A2%BA%E7%8E%87%E3%81%A8%E7%B5%B1%E8%A8%88/Chapter1.ipynb#Def-1.3.2:-%E7%A2%BA%E7%8E%87%E5%A4%89%E6%95%B0)"
   ]
  },
  {
   "cell_type": "markdown",
   "metadata": {},
   "source": [
    "---\n",
    "\n",
    "## Def 1.4.2.1: 同時確率分布\n",
    "\n",
    "---\n",
    "\n",
    "確率変数$X,Y$がある事象に対して、それぞれ$x_i, y_i$をとる確率を$P(X=x_i, Y=y_i)$と表す。\n",
    "\n",
    "---\n",
    "\n",
    "---\n",
    "\n",
    "### Def 1.4.2.1.1: 同時確率密度関数\n",
    "\n",
    "---\n",
    "\n",
    "標本空間$\\Omega = \\Omega_X \\times \\Omega_Y$に対して、$X, Y$を連続型確率変数とする。\n",
    "同時確率$P$がコルモゴロフの公理を満たすとき、\n",
    "$$f_{X \\times Y}(x,y) = P(X=x, Y=y)$$\n",
    "を同時確率密度関数と呼ぶ。\n",
    "\n",
    "---"
   ]
  },
  {
   "cell_type": "markdown",
   "metadata": {},
   "source": [
    "---\n",
    "\n",
    "## Def1.4.2.2: 周辺化\n",
    "\n",
    "---\n",
    "\n",
    "同時確率密度関数$f_{X \\times Y}(x,y)$とする。\n",
    "連続型確率変数$X,Y$のそれぞれの確率密度関数$g,h$は以下で求められる。\n",
    "$$g(x) = \\int_{\\Omega_Y} f_{X \\times Y}(x,y)dy, \\ \\ h(y) = \\int_{\\Omega_X} f_{X \\times Y}(x,y)dx$$\n",
    "\n",
    "---"
   ]
  },
  {
   "cell_type": "markdown",
   "metadata": {},
   "source": [
    "---\n",
    "\n",
    "## Def 1.4.2.3: 条件付き確率\n",
    "\n",
    "---\n",
    "\n",
    "標本空間$\\Omega = \\Omega_X \\times \\Omega_Y$に対して、$X, Y$を確率変数とし、$\\Omega$上の確率を$P$とする。\n",
    "\n",
    "また、$\\Omega_Y$に対する部分集合族$\\mathcal{B}$に対する事象$B$を一つ固定する。\n",
    "\n",
    "この時、標本空間$\\Omega_B = \\Omega_X \\times B$上の確率を$B$の条件とする$X$の条件付き確率といい、以下で定義する。\n",
    "\n",
    "$$P(X=x|B=y) = \\frac{P (X=x,Y=y)}{P (Y=y)}$$\n",
    "\n",
    "---\n"
   ]
  },
  {
   "cell_type": "markdown",
   "metadata": {},
   "source": [
    "---\n",
    "\n",
    "## Th 1.4.2.1: ベイズ\n",
    "\n",
    "---\n",
    "\n",
    "$\\mathrm{Def \\ 1.4.2.3}$における確率空間において、$\\Omega_X$に対する部分集合族$\\mathcal{A}$に対する事象$A$を一つ固定する。\n",
    "\n",
    "このとき、以下が成り立つ。\n",
    "\n",
    "$$P(X=x|B=y) = \\frac{P (Y=y | A=x) P (X=x)}{P (Y=y)} = \\frac{P (Y=y | A=x)P(X=x)}{\\int P(X=x, Y=y)dx}$$\n",
    "\n",
    "---"
   ]
  },
  {
   "cell_type": "markdown",
   "metadata": {},
   "source": [
    "( **証明** )\n",
    "\\begin{align*}\n",
    "  \\frac{P (Y=y | A=x) P (X=x)}{P (Y=y)} &= \\frac{P (X=x, Y=y)}{P (X=x)} \\times \\frac{P (X=x)}{P (Y=y)} \\\\\n",
    "                                        &= \\frac{P (X=x, Y=y)}{P (Y=y)} \\\\\n",
    "                                        &= P (X=x | B=y)\n",
    "\\end{align*}\n",
    "\n",
    "<p style=\"text-align:right\">========== 証明終了 ==========</p>"
   ]
  },
  {
   "cell_type": "markdown",
   "metadata": {},
   "source": [
    "---\n",
    "\n",
    "## Def 1.4.2.4: 独立\n",
    "\n",
    "---\n",
    "\n",
    "確率空間$(\\Omega_X \\times \\Omega_Y, \\mathcal{A} \\times \\mathcal{B}, P)$に対して、\n",
    "$$P(X=x, Y=y) = P(X=x)P(Y=y)$$\n",
    "が成り立つとき、確率変数$X,Y$は独立という。\n",
    "\n",
    "---"
   ]
  },
  {
   "cell_type": "markdown",
   "metadata": {},
   "source": [
    "---\n",
    "\n",
    "## Def 1.4.2.5: ベイズ推論\n",
    "\n",
    "---\n",
    "\n",
    "確率空間$(\\Omega_X \\times \\Omega_Y, \\mathcal{A} \\times \\mathcal{B}, P)$に対して、条件付き確率または周辺分布を算出することを**ベイズ推論**とする。（「とする」といったのは本書での定義であり、一般的定義ではない。）\n",
    "\n",
    "---"
   ]
  },
  {
   "cell_type": "markdown",
   "metadata": {},
   "source": [
    "---\n",
    "\n",
    "## Pro 1.4.3: 赤玉白玉問題\n",
    "\n",
    "---\n",
    "\n",
    "### $P_X :=$ 袋を選ぶ事前確率, $P_Y :=$ 玉を取り出す事前確率の定義\n",
    "\n",
    "$a := \\{赤玉, 赤玉, 白玉\\}, b := \\{赤玉, 白玉, 白玉, 白玉\\}, S := \\{a, b\\}$\n",
    "\n",
    "$$写像\\mathrm{CR}:S \\ni x \\longmapsto xの赤玉の数 \\in \\mathbb{N}$$\n",
    "\n",
    "で定義する。\n",
    "\n",
    "$$\n",
    "  \\begin{align*}\n",
    "    \\Omega_X &:= \\{袋aを選ぶ事象(=: A), 袋bを選ぶ事象(=: B)\\} \\\\\n",
    "    \\Omega_Y &:= \\{赤玉を選ぶ事象(=: R), 白玉を選ぶ事象(=: W)\\}\n",
    "  \\end{align*}\n",
    "$$\n",
    "とする。\n",
    "\n",
    "$\\Omega_X$の部分集合族$\\mathcal{A}=\\{\\emptyset, \\{A\\}, \\{B\\}, \\Omega_X \\}$は$\\sigma$-加法族である。\n",
    "\n",
    "$$\n",
    "  P_X(X) :=\n",
    "      \\begin{cases}\n",
    "        0 & (X = \\emptyset) \\\\\n",
    "        \\frac{1}{2} & (X \\in \\{\\{A\\}, \\{B\\}\\}) \\\\\n",
    "        1 & (X = \\Omega_X)\n",
    "      \\end{cases}\n",
    "$$\n",
    "\n",
    "で定義した時、$P_X$は明らかに確率となる。よって、確率空間$(\\Omega_X, \\mathcal{A}, P_X)$を定義できる。\n",
    "\n",
    "一方、$\\Omega_Y$の部分集合族$\\mathcal{B}=\\{\\emptyset, \\{R\\}, \\{W\\}, \\Omega_Y \\}$は$\\sigma$-加法族である。\n",
    "\n",
    "$$\n",
    "  P_Y(Y) :=\n",
    "      \\begin{cases}\n",
    "        0 & (Y = \\emptyset) \\\\\n",
    "        P_X(\\{A\\}) \\times \\frac{\\mathrm{CR}(a)}{|a|} \n",
    "            +  P_X(\\{B\\}) \\times \\frac{\\mathrm{CR}(b)}{|b|} & (Y =\\{R\\}) \\\\\n",
    "        P_X(\\{A\\}) \\times \\frac{|a| - \\mathrm{CR}(a)}{|a|} \n",
    "            +  P_X(\\{B\\}) \\times \\frac{|a| - \\mathrm{CR}(b)}{|b|} & (Y =\\{W\\}) \\\\\n",
    "        1 & (X = \\Omega_X)\n",
    "      \\end{cases}\n",
    "$$\n",
    "\n",
    "で定義した時、$P_Y$は明らかに確率となる。よって、確率空間$(\\Omega_Y, \\mathcal{B}, P_Y)$を定義できる。\n",
    "今回の場合、確率$P_Y$は\n",
    "$$\n",
    "  P_Y(Y) :=\n",
    "    \\begin{cases}\n",
    "      0 & (Y = \\emptyset) \\\\\n",
    "      \\frac{11}{24} & (Y =\\{R\\}) \\\\\n",
    "      \\frac{13}{24} & (Y =\\{W\\}) \\\\\n",
    "      1 & (X = \\Omega_X)\n",
    "    \\end{cases}\n",
    "$$\n",
    "と再定義できる。\n",
    "\n",
    "---\n",
    "\n",
    "### 袋と玉の取り方の同時確率P\n",
    "\n",
    "まず補助関数$\\alpha(X), \\beta(X, Y)$を、\n",
    "\n",
    "$$\n",
    "  \\alpha(X) := \\begin{cases}\n",
    "    a & (X = A) \\\\\n",
    "    b & (X = B)\n",
    "  \\end{cases}\n",
    "$$\n",
    "\n",
    "$$\n",
    "  \\beta(X, Y) :=\n",
    "  \\begin{cases}\n",
    "    0 & (Y = \\emptyset) \\\\\n",
    "    \\frac{\\mathrm{CR}(\\alpha(X))}{|\\alpha(X)|} & (Y = \\{R\\}) \\\\\n",
    "    \\frac{|\\alpha(X)| - \\mathrm{CR}(\\alpha(X))}{|\\alpha(X)|} & (Y = \\{W\\}) \\\\\n",
    "    1 & (Y = \\Omega_Y)\n",
    "  \\end{cases}\n",
    "$$\n",
    "で定義する。\n",
    "ここで\n",
    "$$写像P:\\mathcal{A} \\times \\mathcal{B} \\ni (X, Y) \\longmapsto P(X, Y) \\in \\mathbb{R}$$\n",
    "\n",
    "を以下で定義する。\n",
    "\n",
    "$$P(X, Y) := P_X(X) \\times \\beta(X, Y)$$\n",
    "\n",
    "このとき、明らかに（もれなく一つずつ計算することで）Pが$\\Omega_X \\times \\Omega_Y$上の確率であることがわかる。\n",
    "\n",
    "---\n",
    "\n",
    "### 袋が選ばれていることを前提とした確率\n",
    "\n",
    "確率空間$(\\Omega_X \\times \\Omega_Y, \\mathcal{A} \\times \\mathcal{B}, P)$に対して、$A \\in \\mathcal{A}$を固定した時の、条件付き確率は\n",
    "\n",
    "$$\n",
    "  P(Y \\in \\mathcal{B} | A \\in \\mathcal{A}) \n",
    "    = \\frac{P(A \\in \\mathcal{A}, Y \\in \\mathcal{B})}{P(A \\in \\mathcal{A})} \n",
    "$$\n",
    "\n",
    "と定義できる。この条件付き確率は\n",
    "\n",
    "$$\n",
    "  P(Y \\in \\mathcal{B} | A \\in \\mathcal{A}) :=\n",
    "    \\begin{cases}\n",
    "      0           & (Y = \\emptyset) \\\\\n",
    "      \\frac{2}{3} & (Y =\\{R\\}) \\\\\n",
    "      \\frac{1}{3} & (Y =\\{W\\}) \\\\\n",
    "      1           & (Y = \\Omega_Y)\n",
    "    \\end{cases}\n",
    "$$\n",
    "\n",
    "で再定義できる。\n",
    "\n",
    "---\n",
    "\n",
    "### 袋を選ぶ事後確率, 玉を取り出す事後確率\n",
    "\n",
    "$P$を周辺化することで袋を選ぶ事後確率と玉を取り出す事後確率を求める。\n",
    "\n",
    "$$\n",
    "  \\begin{align*}\n",
    "    P(A \\in \\mathcal{A}) &= \\sum_{Y \\in \\mathcal{B}} P(A, Y) \\\\ \n",
    "                         &= \\sum_{Y \\in \\mathcal{B}} P_X(A) \\times \\beta(A, Y) \\\\\n",
    "                         &= P_X(A) \\times \\beta(A, R) + P_X(A) \\times \\beta(A, W) \\\\\n",
    "                         &= \\frac{1}{2}\\left( \\frac{\\mathrm{CR}(\\alpha(A))}{|\\alpha(A)|} + \\frac{|\\alpha(A)| - \\mathrm{CR}(\\alpha(A))}{|\\alpha(A)|} \\right) \\\\\n",
    "                         &= \\frac{1}{2} \\\\\n",
    "    P(B \\in \\mathcal{A}) &= \\sum_{Y \\in \\mathcal{B}} P(B, Y) \\\\ \n",
    "                         &= \\sum_{Y \\in \\mathcal{B}} P_X(B) \\times \\beta(B, Y) \\\\\n",
    "                         &= P_X(B) \\times \\beta(B, R) + P_X(B) \\times \\beta(B, W) \\\\\n",
    "                         &= \\frac{1}{2}\\left( \\frac{\\mathrm{CR}(\\alpha(B))}{|\\alpha(B)|} + \\frac{|\\alpha(B)| - \\mathrm{CR}(\\alpha(B))}{|\\alpha(B)|} \\right) \\\\\n",
    "                         &= \\frac{1}{2} \\\\\n",
    "  \\end{align*}\n",
    "$$\n",
    "\n",
    "今回、袋を選ぶ事後確率の事前確率と事後確率は一致したが、一般には一致しないことに注意する。\n",
    "\n",
    "---"
   ]
  },
  {
   "cell_type": "code",
   "execution_count": 4,
   "metadata": {},
   "outputs": [
    {
     "data": {
      "text/plain": [
       "CR (generic function with 1 method)"
      ]
     },
     "execution_count": 4,
     "metadata": {},
     "output_type": "execute_result"
    }
   ],
   "source": [
    "a = Set([\"赤玉\", \"赤玉\", \"白玉\"]);\n",
    "b = Set([\"赤玉\", \"白玉\", \"白玉\", \"白玉\"]);\n",
    "S = Set([a,b]);\n",
    "\n",
    "function CR(x)\n",
    "  \n",
    "end"
   ]
  },
  {
   "cell_type": "code",
   "execution_count": 22,
   "metadata": {},
   "outputs": [
    {
     "data": {
      "text/plain": [
       "2"
      ]
     },
     "execution_count": 22,
     "metadata": {},
     "output_type": "execute_result"
    }
   ],
   "source": [
    "length(a .=== \"赤玉\")"
   ]
  },
  {
   "cell_type": "code",
   "execution_count": null,
   "metadata": {},
   "outputs": [],
   "source": []
  }
 ],
 "metadata": {
  "kernelspec": {
   "display_name": "Julia 1.0.3",
   "language": "julia",
   "name": "julia-1.0"
  },
  "language_info": {
   "file_extension": ".jl",
   "mimetype": "application/julia",
   "name": "julia",
   "version": "1.0.3"
  }
 },
 "nbformat": 4,
 "nbformat_minor": 2
}
