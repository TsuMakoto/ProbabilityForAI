{
 "cells": [
  {
   "cell_type": "markdown",
   "metadata": {},
   "source": [
    "# 確率の定義\n",
    "\n",
    "本資料では確率を公理的な立場で議論する。"
   ]
  },
  {
   "cell_type": "markdown",
   "metadata": {},
   "source": [
    "---\n",
    "## Def 1.1: $\\sigma$-加法族\n",
    "標本空間$\\Omega$の部分集合族$\\mathcal{B}$が以下の性質を満たす時、$\\sigma$加法族(sigma algebra)という。\n",
    "\n",
    "1. $\\emptyset \\in \\mathcal{B}$\n",
    "2. $A \\in \\mathcal{B} \\Longrightarrow A^c \\in \\mathcal{B}$\n",
    "3. $A_1, A_2 \\cdots \\in \\mathcal{B} \\Longrightarrow \\bigcup_{A_i \\in \\mathcal{B}} A_i \\in \\mathcal{B} $\n",
    "---"
   ]
  },
  {
   "cell_type": "code",
   "execution_count": 5,
   "metadata": {},
   "outputs": [
    {
     "data": {
      "text/plain": [
       "sigma_addtive_class (generic function with 1 method)"
      ]
     },
     "execution_count": 5,
     "metadata": {},
     "output_type": "execute_result"
    }
   ],
   "source": [
    "# define empty-set\n",
    "Ø = Set([])\n",
    "# judged σ-additive class\n",
    "function sigma_addtive_class(Ω, B)\n",
    "    # def01-1: 1. ∅ ∈ B\n",
    "    if Ø ∉ B\n",
    "        return false\n",
    "    end\n",
    "    \n",
    "    # def01-1: 2. A ∈ B → Aᶜ ∈ B\n",
    "    for a ∈ B\n",
    "        if setdiff(Ω, a) ∉ B\n",
    "            return false\n",
    "        end\n",
    "    end\n",
    "    \n",
    "    # def01-1: 3. A₁, A₂, ⋯ ∈ B → ⋃(Aᵢ ∈ B) Aᵢ ∈ B\n",
    "    addtive_sets = Set()\n",
    "    for a ∈ B\n",
    "        addtive_sets = addtive_sets ∪ a\n",
    "    end\n",
    "    if addtive_sets ∉ B\n",
    "        return false\n",
    "    end\n",
    "    # welldefined\n",
    "    return true\n",
    "end"
   ]
  },
  {
   "cell_type": "markdown",
   "metadata": {},
   "source": [
    "標本空間$\\Omega := \\{ 1,2,3 \\}$,\n",
    "\n",
    "その部分集合族$\\mathcal{B} := \\{ \\emptyset, \\{ 1 \\}, \\{ 2 \\}, \\{ 3 \\}, \\{ 1,2 \\}, \\{ 2,3 \\}, \\{ 1,3 \\}, \\Omega \\}$\n",
    "\n",
    "で定義すると、$\\mathcal{B}$は$\\sigma$-加法族となる。\n",
    "\n",
    "それを上のプログラムを用いて証明する。"
   ]
  },
  {
   "cell_type": "code",
   "execution_count": 6,
   "metadata": {},
   "outputs": [
    {
     "data": {
      "text/plain": [
       "true"
      ]
     },
     "execution_count": 6,
     "metadata": {},
     "output_type": "execute_result"
    }
   ],
   "source": [
    "Ω = Set([1,2,3]);                                                                     # 標本空間 Ω := {1,2,3}を定義\n",
    "B = Set([Ø, Set([1]), Set([2]), Set([3]), Set([1,2]), Set([1,3]), Set([2,3]), Ω]);    # 部分集合族 B := {A | ∀A ⊂ Ω}を定義 \n",
    "sigma_addtive_class(Ω, B)                                                             # Bはσ-加法族であることがわかる"
   ]
  },
  {
   "cell_type": "markdown",
   "metadata": {},
   "source": [
    "---\n",
    "## Def 1.2: コルモゴロフ\n",
    "\n",
    "空でない標本空間$\\Omega$と$\\sigma$加法族$\\mathcal{B}$上の関数$P$が以下を満たす時、$P$を$\\Omega$上の確率と定義する。\n",
    "1. $P(A) \\ge 0, \\ \\forall A \\in \\mathcal{B}$\n",
    "2. $P(\\Omega) = 1$\n",
    "3. $A_1, \\dots  \\in \\mathcal{B}$それぞれが互いに排反である時、\n",
    "  $$\\sum_{A_i \\in \\mathcal{B}}P(A_i) = P\\left( \\bigcup_{A_i \\in \\mathcal{B}} A_i \\right)$$\n",
    " \n",
    "さらに、$(\\Omega, \\mathcal{B}, P)$を確率空間と呼ぶ。\n",
    "\n",
    "---"
   ]
  },
  {
   "cell_type": "code",
   "execution_count": 7,
   "metadata": {},
   "outputs": [
    {
     "data": {
      "text/plain": [
       "probability (generic function with 1 method)"
      ]
     },
     "execution_count": 7,
     "metadata": {},
     "output_type": "execute_result"
    }
   ],
   "source": [
    "# judged probability\n",
    "function probability(Ω, B, P)\n",
    "    # def 01-2: 1. P(A) ≥ 0, ∀A ∈ B\n",
    "    for a ∈ B\n",
    "        if P(a) < 0\n",
    "            return false\n",
    "        end\n",
    "    end\n",
    "    \n",
    "    # def 01-2: 2. P(Ω) = 1\n",
    "    if P(Ω) ≠ 1\n",
    "        return false\n",
    "    end\n",
    "    \n",
    "    # def 01-2: 3. A₁, ⋯ ∈ B に対して、Aᵢ ∩ Aⱼ = Ø (i ≠ j) → ∑(Aᵢ ∈ B) P(Aᵢ) = P(⋃(Aᵢ ∈ B) Aᵢ)\n",
    "    for aᵢ ∈ B\n",
    "        for aⱼ ∈ setdiff(B, aᵢ)\n",
    "            if aᵢ ∩ aⱼ == Ø && P(aᵢ) + P(aⱼ) != P(aᵢ ∪ aⱼ)\n",
    "                return false\n",
    "            end\n",
    "        end\n",
    "    end\n",
    "    return true\n",
    "end"
   ]
  },
  {
   "cell_type": "markdown",
   "metadata": {},
   "source": [
    "ここで、標本空間$\\Omega$と$\\sigma$-加法族$\\mathcal{B}$に対して、写像$P:\\mathcal{B} \\ni A \\longmapsto P(A) \\in \\mathbb{R}$を、\n",
    "\n",
    "$$P(A) := \\frac{|A|}{|\\Omega|}$$\n",
    "\n",
    "で定義する。\n",
    "\n",
    "すると、上記プログラムを実行することで確率空間$(\\Omega, \\mathcal{B}, P)$定まる。"
   ]
  },
  {
   "cell_type": "code",
   "execution_count": 9,
   "metadata": {},
   "outputs": [
    {
     "data": {
      "text/plain": [
       "true"
      ]
     },
     "execution_count": 9,
     "metadata": {},
     "output_type": "execute_result"
    }
   ],
   "source": [
    "P(A) = length(A)/3;        # 写像P:A → R を　P（A） := {Aの元の数} / 3 で定義\n",
    "probability(Ω, B, P)       # 写像Pは確率であるとわかる"
   ]
  },
  {
   "cell_type": "markdown",
   "metadata": {},
   "source": [
    "---\n",
    "\n",
    "# Th 1.1: 加法法則\n",
    "\n",
    "$A, B \\in \\mathcal{A}$に対して、以下が成り立つ。\n",
    "$$P(A \\cap B) = P(A) + P(B) - P(A \\cup B)$$\n",
    "\n",
    "---"
   ]
  },
  {
   "cell_type": "markdown",
   "metadata": {},
   "source": [
    "( **証明** )\n",
    "- $(A \\cap B^c)$と$(A \\cap B)$は排反で、$$A = (A \\cap B^c) \\cup (A \\cap B)$$\n",
    "- $(A^c \\cap B)$と$(A \\cap B)$は排反で、$$B = (A^c \\cap B) \\cup (A \\cap B)$$\n",
    "- $(A \\cap B^c)$と$(A^c \\cap B)$と$(A \\cap B)$は排反で、$$A \\cup B = (A \\cap B^c) \\cup (A^c \\cap B) \\cup (A \\cap B)$$\n",
    "が成り立つ。\n",
    "\n",
    "$A,B \\in \\mathcal{A}$であるから、コルモゴロフの公理３により\n",
    "\n",
    "$$P(A) = P(A \\cap B^c) + P(A \\cap B)$$\n",
    "$$P(B) = P(A^c \\cap B) + P(A \\cap B)$$\n",
    "$$P(A \\cup B) = P(A \\cap B^c) + P(A^c \\cap B) + P(A \\cap B)$$\n",
    "\n",
    "以上により、$$P(A) + P(B) - P(A \\cup B) = P(A \\cap B)$$\n",
    "\n",
    "\n",
    "**<p style=\"text-align: right;\">============== 証明終 ==============<p>**"
   ]
  },
  {
   "cell_type": "markdown",
   "metadata": {},
   "source": [
    "定義を用いれば、上記のように、高校でベン図で証明したような曖昧な等式を証明することが可能になる。\n",
    "\n",
    "しかし、図的に理解することは重要である。\n",
    "\n",
    "![加法法則](data/加法法則.png)"
   ]
  },
  {
   "cell_type": "markdown",
   "metadata": {},
   "source": [
    "---\n",
    "\n",
    "## Def 1.3.1: 確率変数と確率分布\n",
    "\n",
    "確率空間$(\\Omega, \\mathcal{A}, P)$において、写像$X$：$\\Omega \\rightarrow \\mathbb{R}$が任意の$x \\in \\mathbb{R}$に対して、\n",
    "\n",
    "$$X^{-1} ((- \\infty, x]) = \\{\\ s \\in \\Omega \\ | \\ X(s) \\in (- \\infty, x] \\ \\} \\in \\mathcal{A}$$\n",
    "\n",
    "を満たす$X$を確率変数という。\n",
    "\n",
    "---"
   ]
  },
  {
   "cell_type": "markdown",
   "metadata": {},
   "source": [
    "例えば、確率空間$(\\Omega, \\mathcal{B}, P)$において、例えば3面体の"
   ]
  },
  {
   "cell_type": "markdown",
   "metadata": {},
   "source": [
    "---\n",
    "\n",
    "## Def 1.3.2: 確率変数\n",
    "\n",
    "確率空間$(\\Omega, \\mathcal{A}, P)$上の確率変数$X$が任意の$x \\in \\mathbb{R}$に対して、$F_X(x)$を以下で定義する。\n",
    "\n",
    "$$F_X(x) = P( \\{ s \\in \\Omega \\ | \\ X(s) \\in (- \\infty, x] \\} )$$\n",
    "\n",
    "また、$X(s) \\le x$を満たすため、一般に$P(X \\le x)$と記す。 \n",
    "\n",
    "---"
   ]
  },
  {
   "cell_type": "markdown",
   "metadata": {},
   "source": [
    "---\n",
    "\n",
    "## Def 1.3.3: 連続型・離散型確率変数\n",
    "\n",
    "累積分布関数$P(X \\le x)$が連続関数であれば確率変数$X$を連続型、階段関数であれば離散型とよぶ。\n",
    "\n",
    "---"
   ]
  },
  {
   "cell_type": "markdown",
   "metadata": {},
   "source": [
    "---\n",
    "\n",
    "### Def 1.3.3.1 指示関数\n",
    "\n",
    "$A \\subset \\Omega$を集合とする。写像：$\\chi_A: \\Omega \\ni x \\longmapsto \\chi_A(x) \\in \\{ 0,1 \\}$を以下で定める。\n",
    "$$\n",
    "  \\chi_A(x) :=\n",
    "  \\left\\{\n",
    "    \\begin{array}{ll}\n",
    "      1 & x \\in A \\\\\n",
    "      0 & x \\notin A\n",
    "    \\end{array}\n",
    "  \\right.\n",
    "$$\n",
    "これを指示関数と呼ぶ。\n",
    "\n",
    "---"
   ]
  },
  {
   "cell_type": "markdown",
   "metadata": {},
   "source": [
    "---\n",
    "\n",
    "### Def 1.3.3.2 階段関数\n",
    "\n",
    "$E_j (j = 1,2, \\cdots, N)$を$\\mathbb{R}$上のルベーグ可測集合とする。\n",
    "\n",
    "正の実数列$\\{a_j\\}_{j=1}^N$と、互いに排反な$\\{E\\}_{j=1}^N$に対して、写像：$\\phi: \\Omega \\ni x \\longmapsto \\phi(x) \\in \\mathbb{R}$を以下で定める。\n",
    "$$\n",
    "  \\phi(x) := \\sum_{j=1}^{N}a_j \\chi_{E_j}(x)\n",
    "$$\n",
    "これを階段関数と呼ぶ。\n",
    "\n",
    "---"
   ]
  },
  {
   "cell_type": "markdown",
   "metadata": {},
   "source": [
    "## Def 1.4.1 確率質量関数\n",
    "\n",
    "確率空間$(\\Omega, \\mathcal{A}, P)$上の離散型確率変数$X$の確率関数$f_X(x)$が\n",
    "$$\\forall x \\in X, \\ f_X(x) = P(X = x)$$\n",
    "を満たすものを確率質量関数という。"
   ]
  },
  {
   "cell_type": "markdown",
   "metadata": {},
   "source": [
    "---\n",
    "\n",
    "## Def 1.4.2 確率密度関数\n",
    "\n",
    "---\n",
    "\n",
    "確率空間$(\\Omega, \\mathcal{A}, P)$上の連続型確率変数$X$の確率関数$f_X(x)$が\n",
    "$$\\forall x \\in X, \\ F_X(x) = \\int_{- \\infty}^x f_X(t) dt$$\n",
    "を満たすものを確率密度関数という。\n",
    "\n",
    "---"
   ]
  }
 ],
 "metadata": {
  "kernelspec": {
   "display_name": "Julia 1.0.3",
   "language": "julia",
   "name": "julia-1.0"
  },
  "language_info": {
   "file_extension": ".jl",
   "mimetype": "application/julia",
   "name": "julia",
   "version": "1.0.3"
  }
 },
 "nbformat": 4,
 "nbformat_minor": 2
}
