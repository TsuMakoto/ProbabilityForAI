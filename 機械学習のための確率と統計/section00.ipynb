{
 "cells": [
  {
   "cell_type": "markdown",
   "metadata": {},
   "source": [
    "# 本資料の目的\n",
    "\n",
    "この資料は[機械学習のための確率と統計](https://www.amazon.co.jp/dp/B018K6C9AY/ref=dp-kindle-redirect?_encoding=UTF8&btkr=1)\n",
    "を参考にまとめた資料である。\n",
    "\n",
    "上記参考文献では数学的な内容がほとんど省略されている。\n",
    "\n",
    "情報学書としては良本かもしれないが、数学書としてみたときに物足りなさがある。\n",
    "\n",
    "よって、自分用に数学資料として追記していく。\n",
    "\n",
    "わかりやすくまとめてある良書に対し、厳密性を議論し本題をわかりづらくするという愚行を行うわけであるから、完全にオレオレ文献である。\n",
    "\n",
    "それらを承知の上で進めていきたい。"
   ]
  },
  {
   "cell_type": "markdown",
   "metadata": {},
   "source": [
    "# 資料の作成環境\n",
    "\n",
    "特にJupyter notebookを使って行う必然性はない。\n",
    "\n",
    "本資料の環境は\n",
    "\n",
    "- Jupyter notebook\n",
    "- Julia 1.0.3\n",
    "- sklernやtensorflowを使うことを目的とはしていない\n",
    "    - しかし、自分用のチュートリアルとして別途用意する可能性も視野"
   ]
  }
 ],
 "metadata": {
  "kernelspec": {
   "display_name": "Julia 1.0.3",
   "language": "julia",
   "name": "julia-1.0"
  },
  "language_info": {
   "file_extension": ".jl",
   "mimetype": "application/julia",
   "name": "julia",
   "version": "1.0.3"
  }
 },
 "nbformat": 4,
 "nbformat_minor": 2
}
