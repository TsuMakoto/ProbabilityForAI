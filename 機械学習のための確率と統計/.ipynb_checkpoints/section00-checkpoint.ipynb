{
 "cells": [
  {
   "cell_type": "markdown",
   "metadata": {},
   "source": [
    "# 本資料の目的\n",
    "\n",
    "この資料は[機械学習のための確率と統計](https://www.amazon.co.jp/dp/B018K6C9AY/ref=dp-kindle-redirect?_encoding=UTF8&btkr=1)\n",
    "を参考にまとめた資料である。\n",
    "\n",
    "上記参考文献では数学的な内容がほとんど省略されている。\n",
    "\n",
    "情報学書としては良本かもしれないが、数学書としてみたときに物足りなさしか無い。\n",
    "\n",
    "よって、自分用に数学資料として追記していく。\n",
    "\n",
    "わかりやすくまとめてある良書に対し、厳密性を議論し本題をわかりづらくするという愚行を行うわけであるから、完全にオレオレ文献である。\n",
    "\n",
    "それらを承知の上で進めていきたい。"
   ]
  },
  {
   "cell_type": "markdown",
   "metadata": {},
   "source": [
    "# 資料の作成環境\n",
    "\n",
    "特にJupyter notebookを使って行う必然性はない。\n",
    "\n",
    "本資料の環境は\n",
    "\n",
    "- Jupyter notebook\n",
    "- Julia 1.0.3\n",
    "- sklernやtensorflowを使うことを目的とはしていない\n",
    "    - しかし、自分用のチュートリアルとして別途用意する可能性も視野"
   ]
  },
  {
   "cell_type": "markdown",
   "metadata": {},
   "source": [
    "# 集合論\n",
    "\n",
    "このセクションでは、集合論について、述べていく。"
   ]
  },
  {
   "cell_type": "markdown",
   "metadata": {},
   "source": [
    "## 集合の包含関係\n",
    "\n",
    "$A, B \\subseteq \\Omega$を集合とする。"
   ]
  },
  {
   "cell_type": "markdown",
   "metadata": {},
   "source": [
    "## def 00-1 $x \\in A$\n",
    "\n",
    "$A$の集合を構成する分子として$x$が存在する場合、$x$を$A$の元といい、$x \\in A$で表す。\n",
    "\n",
    "また、$x$が$A$の元で無い場合、$x \\notin A$で表す。"
   ]
  },
  {
   "cell_type": "markdown",
   "metadata": {},
   "source": [
    "---\n",
    "\n",
    "## def 00-2: $A \\subseteq B, A \\supseteq B, A = B$\n",
    "\n",
    "- $A \\subseteq B$：任意の$x \\in Aをとる。 \\Longrightarrow x \\in B$\n",
    "- $A \\supseteq B$：任意の$x \\in Bをとる。 \\Longrightarrow x \\in A$\n",
    "- $A = B$：$A \\subseteq B$かつ$B \\subseteq A$\n",
    "\n",
    "---"
   ]
  },
  {
   "cell_type": "markdown",
   "metadata": {},
   "source": [
    "---\n",
    "\n",
    "## ex 00-1: $A \\subseteq B$ かつ $B \\subseteq C$ $\\Longrightarrow$ $A \\subseteq C$\n",
    "\n",
    "---"
   ]
  },
  {
   "cell_type": "markdown",
   "metadata": {},
   "source": [
    "( **証明** )\n",
    "$x \\in A$をとる。\n",
    "\n",
    "$A \\subseteq B$より、$x \\in B$。\n",
    "$B \\subseteq C$より、$x \\in C$。\n",
    "\n",
    "よって、$A \\subseteq C$\n",
    "\n",
    "**<p style=\"text-align: right;\">============== 証明終 ==============<p>**"
   ]
  },
  {
   "cell_type": "markdown",
   "metadata": {},
   "source": [
    "---\n",
    "\n",
    "## def 00-3: 和集合と積集合\n",
    "\n",
    "- $A \\cup B$（和集合）$:= \\{x \\ | \\ x \\in A または x \\in B \\}$\n",
    "- $A \\cap B$（積集合）$:= \\{x \\ | \\ x \\in A かつ x \\in B \\}$\n",
    "\n",
    "---"
   ]
  },
  {
   "cell_type": "markdown",
   "metadata": {},
   "source": [
    "---\n",
    "## def 00-4: 補集合\n",
    "\n",
    "$A^c$ (補集合) $:= \\{ a \\in \\Omega \\ | \\ a \\notin A \\}$\n",
    "\n",
    "---"
   ]
  },
  {
   "cell_type": "markdown",
   "metadata": {},
   "source": [
    "## def 00-5: 差集合\n",
    "\n",
    "$A - B$ (差集合) $:= \\{ x \\in \\Omega \\ | \\ x \\in A \\cap B^c \\}$"
   ]
  },
  {
   "cell_type": "markdown",
   "metadata": {},
   "source": [
    "---\n",
    "\n",
    "## Lem 00-1: $x \\notin A \\Longleftrightarrow x \\in \\Omega - A$\n",
    "\n",
    "---"
   ]
  },
  {
   "cell_type": "markdown",
   "metadata": {},
   "source": [
    "( **証明**)\n",
    "\n",
    "$$\n",
    "  \\begin{align}\n",
    "    x \\notin A & \\overset{\\mathrm{def \\ 00-4}}{\\Longleftrightarrow}  x \\in A^c \\\\\n",
    "                 & \\Longleftrightarrow x \\in \\Omega \\cap A^c \\\\\n",
    "                 & \\Longleftrightarrow x \\in \\Omega - A \\\\\n",
    "  \\end{align}\n",
    "$$\n",
    "  \n",
    "\n",
    "**<p style=\"text-align: right;\">============== 証明終 ==============<p>**"
   ]
  },
  {
   "cell_type": "markdown",
   "metadata": {},
   "source": [
    "---\n",
    "\n",
    "## Lem 00-2: (A^c)^c = A\n",
    "\n",
    "---"
   ]
  },
  {
   "cell_type": "markdown",
   "metadata": {},
   "source": [
    "( **証明**)\n",
    "\n",
    "$\\forall x \\in (A^c)^c$をとる。\n",
    "\n",
    "$$\n",
    "  \\begin{align}\n",
    "    x \\in (A^c)^c & \\overset{\\mathrm{def \\ 00-4}}{\\Longleftrightarrow} x \\notin A^c \\\\\n",
    "                     & \\overset{\\mathrm{Lem \\ 00-2}}{\\Longleftrightarrow} x \\in \\Omega - A^c \\\\\n",
    "                     & \\overset{\\mathrm{def \\ 00-5}}{\\Longleftrightarrow} x \\in \\Omega \\cap A \\\\\n",
    "                     & \\Longleftrightarrow x \\in A \\\\\n",
    "  \\end{align}\n",
    "$$\n",
    "\n",
    "**<p style=\"text-align: right;\">============== 証明終 ==============<p>**"
   ]
  },
  {
   "cell_type": "markdown",
   "metadata": {},
   "source": [
    "---\n",
    "\n",
    "## Th 00-1: De Morgan\n",
    "\n",
    "$A,B \\subseteq \\Omega$を集合とする。\n",
    "\n",
    "1. $(A \\cup B)^c = A^c \\cap B^c$\n",
    "2. $(A \\cap B)^c = A^c \\cup B^c$\n",
    "\n",
    "---"
   ]
  },
  {
   "cell_type": "markdown",
   "metadata": {},
   "source": [
    "( **証明** )\n",
    "\n",
    "$ \\Longleftrightarrow 1$\n",
    "$$\n",
    "\\begin{align}\n",
    "     \\forall a \\in (A \\cup B)^c &\\overset{\\mathrm{def \\ 00-4}}{\\iff} a \\notin (A \\cup B) \\\\\n",
    "                                     &\\iff a \\notin A かつ a \\notin B \\\\\n",
    "                                     &\\overset{\\mathrm{def \\ 00-4}}{\\iff} a \\in A^c かつ b \\in B^c \\\\\n",
    "                                     &\\overset{\\mathrm{def \\ 00-2}}{\\Longleftrightarrow}  a \\in A^c \\cap B^c\n",
    " \\end{align}\n",
    "$$\n",
    "\n",
    "$ \\Longleftrightarrow 2$\n",
    "\n",
    "$$\n",
    "  \\begin{align}\n",
    "    (A^c \\cup B^c)^c & \\overset{(1)}{=} (A^c)^c \\cap (B^c)^c \\\\\n",
    "                                             & = A \\cap B\n",
    "  \\end{align}\n",
    "$$\n",
    "両辺補集合を考えると、$(A \\cap B)^c = A^c \\cup B^c$\n",
    "\n",
    "**<p style=\"text-align: right;\">============== 証明終 ==============<p>**"
   ]
  }
 ],
 "metadata": {
  "kernelspec": {
   "display_name": "Julia 1.0.3",
   "language": "julia",
   "name": "julia-1.0"
  },
  "language_info": {
   "file_extension": ".jl",
   "mimetype": "application/julia",
   "name": "julia",
   "version": "1.0.3"
  }
 },
 "nbformat": 4,
 "nbformat_minor": 2
}
