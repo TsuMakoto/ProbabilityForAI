{
 "cells": [
  {
   "cell_type": "markdown",
   "metadata": {},
   "source": [
    "# 確率の定義\n",
    "\n",
    "本資料では確率を公理的な立場で議論する。"
   ]
  },
  {
   "cell_type": "markdown",
   "metadata": {},
   "source": [
    "---\n",
    "## def 01-1: $\\sigma$-加法族\n",
    "標本空間$\\Omega$の部分集合族$\\mathcal{B}$が以下の性質を満たす時、$\\sigma$加法族(sigma algebra)という。\n",
    "\n",
    "1. $\\emptyset \\in \\mathcal{B}$\n",
    "2. $A \\in \\mathcal{B} \\Longrightarrow A^c \\in \\mathcal{B}$\n",
    "3. $A_1, A_2 \\cdots \\in \\mathcal{B} \\Longrightarrow \\bigcup_{A_i \\in \\mathcal{B}} A_i \\in \\mathcal{B} $\n",
    "---"
   ]
  },
  {
   "cell_type": "code",
   "execution_count": 3,
   "metadata": {},
   "outputs": [
    {
     "data": {
      "text/plain": [
       "sigma_addtive_class (generic function with 1 method)"
      ]
     },
     "execution_count": 3,
     "metadata": {},
     "output_type": "execute_result"
    }
   ],
   "source": [
    "# define empty-set\n",
    "Ø = Set([])\n",
    "# judged σ-additive class\n",
    "function sigma_addtive_class(Ω, B)\n",
    "    # def01-1: 1. ∅ ∈ B\n",
    "    if Ø ∉ B\n",
    "        return false\n",
    "    end\n",
    "    \n",
    "    # def01-1: 2. A ∈ B → Aᶜ ∈ B\n",
    "    for a ∈ B\n",
    "        if setdiff(Ω, a) ∉ B\n",
    "            return false\n",
    "        end\n",
    "    end\n",
    "    \n",
    "    # def01-1: 3. A₁, A₂, ⋯ ∈ B → ⋃(Aᵢ ∈ B) Aᵢ ∈ B\n",
    "    addtive_sets = Set()\n",
    "    for a ∈ B\n",
    "        addtive_sets = addtive_sets ∪ a\n",
    "    end\n",
    "    if addtive_sets ∉ B\n",
    "        return false\n",
    "    end\n",
    "    # welldefined\n",
    "    return true\n",
    "end"
   ]
  },
  {
   "cell_type": "code",
   "execution_count": 4,
   "metadata": {},
   "outputs": [
    {
     "data": {
      "text/plain": [
       "true"
      ]
     },
     "execution_count": 4,
     "metadata": {},
     "output_type": "execute_result"
    }
   ],
   "source": [
    "Ω = Set([1,2,3]);                                                                                                                 # 標本空間 Ω := {1,2,3}を定義\n",
    "B = Set([Ø, Set([1]), Set([2]), Set([3]), Set([1,2]), Set([1,3]), Set([2,3]), Ω]);    # 部分集合族 B := {A | ∀A ⊂ Ω}を定義 \n",
    "sigma_addtive_class(Ω, B)                                                                                                # Bはσ-加法族であることがわかる"
   ]
  },
  {
   "cell_type": "markdown",
   "metadata": {},
   "source": [
    "---\n",
    "## def 01-2: コルモゴロフ\n",
    "\n",
    "空でない標本空間$\\Omega$と$\\sigma$加法族$\\mathcal{B}$上の関数$P$が以下を満たす時、$P$を$\\Omega$上の確率と定義する。\n",
    "1. $P(A) \\ge 0, \\ \\forall A \\in \\mathcal{B}$\n",
    "2. $P(\\Omega) = 1$\n",
    "3. $A_1, \\dots  \\in \\mathcal{B}$それぞれが互いに排反である時、\n",
    "  $$\\sum_{A_i \\in \\mathcal{B}}P(A_i) = P\\left( \\bigcup_{A_i \\in \\mathcal{B}} A_i \\right)$$\n",
    " \n",
    "さらに、$(\\Omega, \\mathcal{B}, P)$を確率空間と呼ぶ。\n",
    "\n",
    "---"
   ]
  },
  {
   "cell_type": "code",
   "execution_count": 8,
   "metadata": {},
   "outputs": [
    {
     "data": {
      "text/plain": [
       "probability (generic function with 1 method)"
      ]
     },
     "execution_count": 8,
     "metadata": {},
     "output_type": "execute_result"
    }
   ],
   "source": [
    "# judged probability\n",
    "function probability(Ω, B, P)\n",
    "    # def 01-2: 1. P(A) ≥ 0, ∀A ∈ B\n",
    "    for a ∈ B\n",
    "        if P(a) < 0\n",
    "            return false\n",
    "        end\n",
    "    end\n",
    "    \n",
    "    # def 01-2: 2. P(Ω) = 1\n",
    "    if P(Ω) ≠ 1\n",
    "        return false\n",
    "    end\n",
    "    \n",
    "    # def 01-2: 3. A₁, ⋯ ∈ B に対して、Aᵢ ∩ Aⱼ = Ø (i ≠ j) → ∑(Aᵢ ∈ B) P(Aᵢ) = P(⋃(Aᵢ ∈ B) Aᵢ)\n",
    "    for aᵢ ∈ B\n",
    "        for aⱼ ∈ setdiff(B, aᵢ)\n",
    "            if aᵢ ∩ aⱼ == Ø && P(aᵢ) + P(aⱼ) != P(aᵢ ∪ aⱼ)\n",
    "                return false\n",
    "            end\n",
    "        end\n",
    "    end\n",
    "    return true\n",
    "end"
   ]
  },
  {
   "cell_type": "code",
   "execution_count": 9,
   "metadata": {},
   "outputs": [
    {
     "data": {
      "text/plain": [
       "true"
      ]
     },
     "execution_count": 9,
     "metadata": {},
     "output_type": "execute_result"
    }
   ],
   "source": [
    "P(A) = length(A)/3;        # 写像P:A → R を　P（A） := {Aの元の数} / 3 で定義\n",
    "probability(Ω, B, P)         # 写像Pは確率であるとわかる"
   ]
  },
  {
   "cell_type": "markdown",
   "metadata": {},
   "source": [
    "---\n",
    "\n",
    "# th 01-1: 加法法則\n",
    "\n",
    "$A, B \\in \\mathcal{A}$に対して、以下が成り立つ。\n",
    "$$P(A \\cap B) = P(A) + P(B) - P(A \\cup B)$$\n",
    "\n",
    "---"
   ]
  },
  {
   "cell_type": "markdown",
   "metadata": {},
   "source": [
    "( **証明** )\n",
    "- $(A \\cap B^c)$と$(A \\cap B)$は排反で、$$A = (A \\cap B^c) \\cup (A \\cap B)$$\n",
    "- $(A^c \\cap B)$と$(A \\cap B)$は排反で、$$B = (A^c \\cap B) \\cup (A \\cap B)$$\n",
    "- $(A \\cap B^c)$と$(A^c \\cap B)$と$(A \\cap B)$は排反で、$$A \\cup B = (A \\cap B^c) \\cup (A^c \\cap B) \\cup (A \\cap B)$$\n",
    "が成り立つ。\n",
    "\n",
    "$A,B \\in \\mathcal{A}$であるから、コルモゴロフの公理３により\n",
    "\n",
    "$$P(A) = P(A \\cap B^c) + P(A \\cap B)$$\n",
    "$$P(B) = P(A^c \\cap B) + P(A \\cap B)$$\n",
    "$$P(A \\cup B) = P(A \\cap B^c) + P(A^c \\cap B) + P(A \\cap B)$$\n",
    "\n",
    "以上により、$$P(A) + P(B) - P(A \\cup B) = P(A \\cap B)$$\n",
    "\n",
    "\n",
    "**<p style=\"text-align: right;\">============== 証明終 ==============<p>**"
   ]
  },
  {
   "cell_type": "code",
   "execution_count": null,
   "metadata": {},
   "outputs": [],
   "source": []
  }
 ],
 "metadata": {
  "kernelspec": {
   "display_name": "Julia 1.0.3",
   "language": "julia",
   "name": "julia-1.0"
  },
  "language_info": {
   "file_extension": ".jl",
   "mimetype": "application/julia",
   "name": "julia",
   "version": "1.0.3"
  }
 },
 "nbformat": 4,
 "nbformat_minor": 2
}
