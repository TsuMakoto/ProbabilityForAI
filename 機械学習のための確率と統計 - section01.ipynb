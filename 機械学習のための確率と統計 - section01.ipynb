{
 "cells": [
  {
   "cell_type": "markdown",
   "metadata": {},
   "source": [
    "# 確率の定義\n",
    "\n",
    "本資料では確率を公理的な立場で議論する。"
   ]
  },
  {
   "cell_type": "markdown",
   "metadata": {},
   "source": [
    "---\n",
    "## def 01-1: $\\sigma 加法族$\n",
    "標本空間$\\Omega$の部分集合族$\\mathcal{B}$が以下の性質を満たす時、$\\sigma$加法族(sigma algebra)という。\n",
    "\n",
    "1. $\\emptyset \\in \\mathcal{B}$\n",
    "2. $A \\in \\mathcal{B} \\rightarrow A^c \\in \\mathcal{B}$\n",
    "3. $A_1, A_2 \\cdots \\in \\mathcal{B} \\rightarrow \\bigcup_{A_i \\in \\mathcal{B}} A_i \\in \\mathcal{B} $\n",
    "---"
   ]
  },
  {
   "cell_type": "code",
   "execution_count": 71,
   "metadata": {},
   "outputs": [
    {
     "data": {
      "text/plain": [
       "sigma_addtive_class (generic function with 1 method)"
      ]
     },
     "execution_count": 71,
     "metadata": {},
     "output_type": "execute_result"
    }
   ],
   "source": [
    "# define empty-set\n",
    "Ø = Set([])\n",
    "# judged σ-additive class\n",
    "function sigma_addtive_class(Ω, B)\n",
    "    # def01-1: 1. ∅ ∈ B\n",
    "    if Ø ∉ B\n",
    "        return false\n",
    "    end\n",
    "    \n",
    "    # def01-1: 2. A ∈ B → Aᶜ ∈ B\n",
    "    for a ∈ B\n",
    "        if setdiff(Ω, a) ∉ B\n",
    "            return false\n",
    "        end\n",
    "    end\n",
    "    \n",
    "    # def01-1: 3. A₁, A₂, ⋯ ∈ B → ⋃(Aᵢ ∈ B) Aᵢ ∈ B\n",
    "    addtive_sets = Set()\n",
    "    for a ∈ B\n",
    "        addtive_sets = addtive_sets ∪ a\n",
    "    end\n",
    "    if addtive_sets ∉ B\n",
    "        return false\n",
    "    end\n",
    "    # welldefined\n",
    "    return true\n",
    "end"
   ]
  },
  {
   "cell_type": "code",
   "execution_count": 83,
   "metadata": {},
   "outputs": [
    {
     "data": {
      "text/plain": [
       "true"
      ]
     },
     "execution_count": 83,
     "metadata": {},
     "output_type": "execute_result"
    }
   ],
   "source": [
    "Ω = Set([1,2,3]);                                                                                                                 # 標本空間 Ω := {1,2,3}を定義\n",
    "B = Set([Ø, Set([1]), Set([2]), Set([3]), Set([1,2]), Set([1,3]), Set([2,3]), Ω]);    # 部分集合族 B := {}を定義 \n",
    "sigma_addtive_class(Ω, B)                                                                                                # このBはσ-加法族であることがわかる"
   ]
  }
 ],
 "metadata": {
  "kernelspec": {
   "display_name": "Julia 1.0.3",
   "language": "julia",
   "name": "julia-1.0"
  },
  "language_info": {
   "file_extension": ".jl",
   "mimetype": "application/julia",
   "name": "julia",
   "version": "1.0.3"
  }
 },
 "nbformat": 4,
 "nbformat_minor": 2
}
